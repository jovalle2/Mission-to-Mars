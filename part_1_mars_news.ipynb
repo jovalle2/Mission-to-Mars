{
 "cells": [
  {
   "cell_type": "markdown",
   "metadata": {},
   "source": [
    "# Module 12 Challenge\n",
    "## Deliverable 1: Scrape Titles and Preview Text from Mars News"
   ]
  },
  {
   "cell_type": "code",
   "execution_count": 12,
   "metadata": {},
   "outputs": [],
   "source": [
    "# Import Splinter and BeautifulSoup\n",
    "from splinter import Browser\n",
    "from bs4 import BeautifulSoup as soup\n",
    "from webdriver_manager.chrome import ChromeDriverManager\n",
    "import json"
   ]
  },
  {
   "cell_type": "code",
   "execution_count": 2,
   "metadata": {
    "scrolled": true
   },
   "outputs": [],
   "source": [
    "executable_path = {'executable_path': ChromeDriverManager().install()}\n",
    "browser = Browser('chrome', **executable_path, headless=False)"
   ]
  },
  {
   "cell_type": "markdown",
   "metadata": {},
   "source": [
    "### Step 1: Visit the Website\n",
    "\n",
    "1. Use automated browsing to visit the [Mars NASA news site](https://redplanetscience.com). Inspect the page to identify which elements to scrape.\n",
    "\n",
    "      > **Hint** To identify which elements to scrape, you might want to inspect the page by using Chrome DevTools."
   ]
  },
  {
   "cell_type": "code",
   "execution_count": 3,
   "metadata": {},
   "outputs": [],
   "source": [
    "# Visit the Mars NASA news site: https://redplanetscience.com\n",
    "url = 'https://redplanetscience.com/'\n",
    "browser.visit(url)"
   ]
  },
  {
   "cell_type": "markdown",
   "metadata": {},
   "source": [
    "### Step 2: Scrape the Website\n",
    "\n",
    "Create a Beautiful Soup object and use it to extract text elements from the website."
   ]
  },
  {
   "cell_type": "code",
   "execution_count": 4,
   "metadata": {},
   "outputs": [],
   "source": [
    "# Create a Beautiful Soup object\n",
    "html = browser.html\n",
    "html_soup = soup(html, 'html.parser')\n"
   ]
  },
  {
   "cell_type": "code",
   "execution_count": 7,
   "metadata": {},
   "outputs": [
    {
     "data": {
      "text/plain": [
       "[<div class=\"list_text\">\n",
       " <div class=\"list_date\">April 16, 2023</div>\n",
       " <div class=\"content_title\">Heat and Dust Help Launch Martian Water Into Space, Scientists Find</div>\n",
       " <div class=\"article_teaser_body\">Scientists using an instrument aboard NASA’s Mars Atmosphere and Volatile EvolutioN, or MAVEN, spacecraft have discovered that water vapor near the surface of the Red Planet is lofted higher into the atmosphere than anyone expected was possible. </div>\n",
       " </div>,\n",
       " <div class=\"list_text\">\n",
       " <div class=\"list_date\">April 15, 2023</div>\n",
       " <div class=\"content_title\">Two of a Space Kind: Apollo 12 and Mars 2020</div>\n",
       " <div class=\"article_teaser_body\">Apollo 12 and the upcoming Mars 2020 mission may be separated by half a century, but they share several goals unique in the annals of space exploration.</div>\n",
       " </div>,\n",
       " <div class=\"list_text\">\n",
       " <div class=\"list_date\">April 12, 2023</div>\n",
       " <div class=\"content_title\">NASA to Hold Mars 2020 Perseverance Rover Launch Briefing</div>\n",
       " <div class=\"article_teaser_body\">Learn more about the agency's next Red Planet mission during a live event on June 17.</div>\n",
       " </div>,\n",
       " <div class=\"list_text\">\n",
       " <div class=\"list_date\">April 10, 2023</div>\n",
       " <div class=\"content_title\">Mars Helicopter Attached to NASA's Perseverance Rover</div>\n",
       " <div class=\"article_teaser_body\">The team also fueled the rover's sky crane to get ready for this summer's history-making launch.</div>\n",
       " </div>,\n",
       " <div class=\"list_text\">\n",
       " <div class=\"list_date\">April 10, 2023</div>\n",
       " <div class=\"content_title\">NASA's Ingenuity Mars Helicopter Recharges Its Batteries in Flight</div>\n",
       " <div class=\"article_teaser_body\">Headed to the Red Planet with the Perseverance rover, the pioneering helicopter is powered up for the first time in interplanetary space as part of a systems check.</div>\n",
       " </div>,\n",
       " <div class=\"list_text\">\n",
       " <div class=\"list_date\">April 8, 2023</div>\n",
       " <div class=\"content_title\">NASA Updates Mars 2020 Mission Environmental Review</div>\n",
       " <div class=\"article_teaser_body\">NASA and the Department of Energy have completed a more detailed risk analysis for the Mars 2020 rover launch from Florida.</div>\n",
       " </div>,\n",
       " <div class=\"list_text\">\n",
       " <div class=\"list_date\">April 7, 2023</div>\n",
       " <div class=\"content_title\">NASA Moves Forward With Campaign to Return Mars Samples to Earth</div>\n",
       " <div class=\"article_teaser_body\">During this next phase, the program will mature critical technologies and make critical design decisions as well as assess industry partnerships.</div>\n",
       " </div>,\n",
       " <div class=\"list_text\">\n",
       " <div class=\"list_date\">April 6, 2023</div>\n",
       " <div class=\"content_title\">Scientists Explore Outback as Testbed for Mars </div>\n",
       " <div class=\"article_teaser_body\">Australia provides a great place for NASA's Mars 2020 and the ESA-Roscosmos ExoMars scientists to hone techniques in preparation for searching for signs ancient life on Mars.</div>\n",
       " </div>,\n",
       " <div class=\"list_text\">\n",
       " <div class=\"list_date\">April 1, 2023</div>\n",
       " <div class=\"content_title\">NASA's Curiosity Takes Selfie With 'Mary Anning' on the Red Planet</div>\n",
       " <div class=\"article_teaser_body\">The Mars rover has drilled three samples of rock in this clay-enriched region since arriving in July.</div>\n",
       " </div>,\n",
       " <div class=\"list_text\">\n",
       " <div class=\"list_date\">March 30, 2023</div>\n",
       " <div class=\"content_title\">NASA's Push to Save the Mars InSight Lander's Heat Probe</div>\n",
       " <div class=\"article_teaser_body\">The scoop on the end of the spacecraft's robotic arm will be used to 'pin' the mole against the wall of its hole.</div>\n",
       " </div>,\n",
       " <div class=\"list_text\">\n",
       " <div class=\"list_date\">March 28, 2023</div>\n",
       " <div class=\"content_title\">NASA's Mars Rover Drivers Need Your Help</div>\n",
       " <div class=\"article_teaser_body\">Using an online tool to label Martian terrain types, you can train an artificial intelligence algorithm that could improve the way engineers guide the Curiosity rover.</div>\n",
       " </div>,\n",
       " <div class=\"list_text\">\n",
       " <div class=\"list_date\">March 27, 2023</div>\n",
       " <div class=\"content_title\">NASA's Perseverance Rover Will Carry First Spacesuit Materials to Mars</div>\n",
       " <div class=\"article_teaser_body\">In a Q&amp;A, spacesuit designer Amy Ross explains how five samples, including a piece of helmet visor, will be tested aboard the rover, which is targeting a July 30 launch. </div>\n",
       " </div>,\n",
       " <div class=\"list_text\">\n",
       " <div class=\"list_date\">March 26, 2023</div>\n",
       " <div class=\"content_title\">7 Things to Know About the Mars 2020 Perseverance Rover Mission</div>\n",
       " <div class=\"article_teaser_body\">NASA's next rover to the Red Planet is slated to launch no earlier than July 30. These highlights will get you up to speed on the ambitious mission.</div>\n",
       " </div>,\n",
       " <div class=\"list_text\">\n",
       " <div class=\"list_date\">March 19, 2023</div>\n",
       " <div class=\"content_title\">The Extraordinary Sample-Gathering System of NASA's Perseverance Mars Rover</div>\n",
       " <div class=\"article_teaser_body\">Two astronauts collected Moon rocks on Apollo 11. It will take three robotic systems working together to gather up the first Mars rock samples for return to Earth.</div>\n",
       " </div>,\n",
       " <div class=\"list_text\">\n",
       " <div class=\"list_date\">March 19, 2023</div>\n",
       " <div class=\"content_title\">The Man Who Wanted to Fly on Mars</div>\n",
       " <div class=\"article_teaser_body\">The Mars Helicopter is riding to the Red Planet this summer with NASA's Perseverance rover. The helicopter's chief engineer, Bob Balaram, shares the saga of how it came into being.</div>\n",
       " </div>]"
      ]
     },
     "execution_count": 7,
     "metadata": {},
     "output_type": "execute_result"
    }
   ],
   "source": [
    "# Extract all the text elements\n",
    "text_elements = html_soup.select('div.list_text')\n",
    "text_elements"
   ]
  },
  {
   "cell_type": "markdown",
   "metadata": {},
   "source": [
    "### Step 3: Store the Results\n",
    "\n",
    "Extract the titles and preview text of the news articles that you scraped. Store the scraping results in Python data structures as follows:\n",
    "\n",
    "* Store each title-and-preview pair in a Python dictionary. And, give each dictionary two keys: `title` and `preview`. An example is the following:\n",
    "\n",
    "  ```python\n",
    "  {'title': \"Mars Rover Begins Mission!\", \n",
    "        'preview': \"NASA's Mars Rover begins a multiyear mission to collect data about the little-explored planet.\"}\n",
    "  ```\n",
    "\n",
    "* Store all the dictionaries in a Python list.\n",
    "\n",
    "* Print the list in your notebook."
   ]
  },
  {
   "cell_type": "code",
   "execution_count": 8,
   "metadata": {},
   "outputs": [],
   "source": [
    "# Create an empty list to store the dictionaries\n",
    "web_list = []"
   ]
  },
  {
   "cell_type": "code",
   "execution_count": 9,
   "metadata": {},
   "outputs": [],
   "source": [
    "# Loop through the text elements\n",
    "# Extract the title and preview text from the elements\n",
    "# Store each title and preview pair in a dictionary\n",
    "# Add the dictionary to the list\n",
    "for x in text_elements: \n",
    "    \n",
    "    title=x.select_one('div.content_title').get_text()\n",
    "    preview=x.select_one('div.article_teaser_body').get_text()\n",
    "    \n",
    "    news_dict = {}\n",
    "    \n",
    "    news_dict[\"title\"]=title\n",
    "    news_dict[\"preview\"]=preview\n",
    "    \n",
    "    web_list.append(news_dict)"
   ]
  },
  {
   "cell_type": "code",
   "execution_count": 10,
   "metadata": {},
   "outputs": [
    {
     "data": {
      "text/plain": [
       "[{'title': 'Heat and Dust Help Launch Martian Water Into Space, Scientists Find',\n",
       "  'preview': 'Scientists using an instrument aboard NASA’s Mars Atmosphere and Volatile EvolutioN, or MAVEN, spacecraft have discovered that water vapor near the surface of the Red Planet is lofted higher into the atmosphere than anyone expected was possible. '},\n",
       " {'title': 'Two of a Space Kind: Apollo 12 and Mars 2020',\n",
       "  'preview': 'Apollo 12 and the upcoming Mars 2020 mission may be separated by half a century, but they share several goals unique in the annals of space exploration.'},\n",
       " {'title': 'NASA to Hold Mars 2020 Perseverance Rover Launch Briefing',\n",
       "  'preview': \"Learn more about the agency's next Red Planet mission during a live event on June 17.\"},\n",
       " {'title': \"Mars Helicopter Attached to NASA's Perseverance Rover\",\n",
       "  'preview': \"The team also fueled the rover's sky crane to get ready for this summer's history-making launch.\"},\n",
       " {'title': \"NASA's Ingenuity Mars Helicopter Recharges Its Batteries in Flight\",\n",
       "  'preview': 'Headed to the Red Planet with the Perseverance rover, the pioneering helicopter is powered up for the first time in interplanetary space as part of a systems check.'},\n",
       " {'title': 'NASA Updates Mars 2020 Mission Environmental Review',\n",
       "  'preview': 'NASA and the Department of Energy have completed a more detailed risk analysis for the Mars 2020 rover launch from Florida.'},\n",
       " {'title': 'NASA Moves Forward With Campaign to Return Mars Samples to Earth',\n",
       "  'preview': 'During this next phase, the program will mature critical technologies and make critical design decisions as well as assess industry partnerships.'},\n",
       " {'title': 'Scientists Explore Outback as Testbed for Mars ',\n",
       "  'preview': \"Australia provides a great place for NASA's Mars 2020 and the ESA-Roscosmos ExoMars scientists to hone techniques in preparation for searching for signs ancient life on Mars.\"},\n",
       " {'title': \"NASA's Curiosity Takes Selfie With 'Mary Anning' on the Red Planet\",\n",
       "  'preview': 'The Mars rover has drilled three samples of rock in this clay-enriched region since arriving in July.'},\n",
       " {'title': \"NASA's Push to Save the Mars InSight Lander's Heat Probe\",\n",
       "  'preview': \"The scoop on the end of the spacecraft's robotic arm will be used to 'pin' the mole against the wall of its hole.\"},\n",
       " {'title': \"NASA's Mars Rover Drivers Need Your Help\",\n",
       "  'preview': 'Using an online tool to label Martian terrain types, you can train an artificial intelligence algorithm that could improve the way engineers guide the Curiosity rover.'},\n",
       " {'title': \"NASA's Perseverance Rover Will Carry First Spacesuit Materials to Mars\",\n",
       "  'preview': 'In a Q&A, spacesuit designer Amy Ross explains how five samples, including a piece of helmet visor, will be tested aboard the rover, which is targeting a July 30 launch. '},\n",
       " {'title': '7 Things to Know About the Mars 2020 Perseverance Rover Mission',\n",
       "  'preview': \"NASA's next rover to the Red Planet is slated to launch no earlier than July 30. These highlights will get you up to speed on the ambitious mission.\"},\n",
       " {'title': \"The Extraordinary Sample-Gathering System of NASA's Perseverance Mars Rover\",\n",
       "  'preview': 'Two astronauts collected Moon rocks on Apollo 11. It will take three robotic systems working together to gather up the first Mars rock samples for return to Earth.'},\n",
       " {'title': 'The Man Who Wanted to Fly on Mars',\n",
       "  'preview': \"The Mars Helicopter is riding to the Red Planet this summer with NASA's Perseverance rover. The helicopter's chief engineer, Bob Balaram, shares the saga of how it came into being.\"}]"
      ]
     },
     "execution_count": 10,
     "metadata": {},
     "output_type": "execute_result"
    }
   ],
   "source": [
    "# Print the list to confirm success\n",
    "web_list"
   ]
  },
  {
   "cell_type": "code",
   "execution_count": 11,
   "metadata": {},
   "outputs": [],
   "source": [
    "browser.quit()"
   ]
  },
  {
   "cell_type": "markdown",
   "metadata": {},
   "source": [
    "### (Optional) Step 4: Export the Data\n",
    "\n",
    "Optionally, store the scraped data in a file or database (to ease sharing the data with others). To do so, export the scraped data to either a JSON file or a MongoDB database."
   ]
  },
  {
   "cell_type": "code",
   "execution_count": 13,
   "metadata": {},
   "outputs": [],
   "source": [
    "# Export data to JSON\n",
    "with open(\"mission_to_mars.json\", \"w\") as file:\n",
    "    json.dump(web_list, file)"
   ]
  },
  {
   "cell_type": "code",
   "execution_count": null,
   "metadata": {},
   "outputs": [],
   "source": [
    "# Export data to MongoDB\n"
   ]
  }
 ],
 "metadata": {
  "kernelspec": {
   "display_name": "mlenv",
   "language": "python",
   "name": "mlenv"
  },
  "language_info": {
   "codemirror_mode": {
    "name": "ipython",
    "version": 3
   },
   "file_extension": ".py",
   "mimetype": "text/x-python",
   "name": "python",
   "nbconvert_exporter": "python",
   "pygments_lexer": "ipython3",
   "version": "3.7.13"
  }
 },
 "nbformat": 4,
 "nbformat_minor": 4
}
